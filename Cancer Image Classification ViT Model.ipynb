{
 "cells": [
  {
   "cell_type": "markdown",
   "metadata": {},
   "source": [
    "### Throat Cancer Classification Model - Hugging Face - Vision Transformer"
   ]
  },
  {
   "cell_type": "code",
   "execution_count": 1,
   "metadata": {},
   "outputs": [],
   "source": []
  },
  {
   "cell_type": "code",
   "execution_count": 36,
   "metadata": {},
   "outputs": [],
   "source": [
    "# !pip install wandb -qqq\n",
    "# import wandb\n",
    "# wandb.login()"
   ]
  },
  {
   "cell_type": "code",
   "execution_count": 3,
   "metadata": {},
   "outputs": [
    {
     "name": "stderr",
     "output_type": "stream",
     "text": [
      "\u001b[34m\u001b[1mwandb\u001b[0m: \u001b[33mWARNING\u001b[0m If you're specifying your api key in code, ensure this code is not shared publicly.\n",
      "\u001b[34m\u001b[1mwandb\u001b[0m: \u001b[33mWARNING\u001b[0m Consider setting the WANDB_API_KEY environment variable, or running `wandb login` from the command line.\n",
      "\u001b[34m\u001b[1mwandb\u001b[0m: Appending key for api.wandb.ai to your netrc file: C:\\Users\\s0n0611\\.netrc\n",
      "\u001b[34m\u001b[1mwandb\u001b[0m: Network error (ProxyError), entering retry loop.\n"
     ]
    },
    {
     "name": "stdout",
     "output_type": "stream",
     "text": [
      "Wandb API key: None\n"
     ]
    }
   ],
   "source": [
    "import wandb\n",
    "\n",
    "# Set your API key\n",
    "api_key = \"55d0dcd23deb056198b9e5b52abcbdcb0fdbf9bb\"\n",
    "\n",
    "# Log in with the API key\n",
    "wandb.login(key=api_key)\n",
    "\n",
    "# Check if the API key is set\n",
    "api_key = wandb.Settings().api_key\n",
    "print(\"Wandb API key:\", api_key)\n"
   ]
  },
  {
   "cell_type": "code",
   "execution_count": 39,
   "metadata": {},
   "outputs": [
    {
     "name": "stdout",
     "output_type": "stream",
     "text": [
      "Wandb mode: online\n"
     ]
    }
   ],
   "source": [
    "import os\n",
    "\n",
    "# Set WANB mode to \"disabled\" before importing wandb\n",
    "os.environ[\"WANDB_MODE\"] = \"disabled\"\n",
    "import wandb\n",
    "\n",
    "# Now, you can check the WANB mode\n",
    "mode = wandb.Settings().mode\n",
    "print(\"Wandb mode:\", mode)"
   ]
  },
  {
   "cell_type": "code",
   "execution_count": 5,
   "metadata": {},
   "outputs": [],
   "source": [
    "\n",
    "import pandas as pd\n",
    "import torch\n",
    "from torch.utils.data import Dataset\n",
    "import os\n",
    "from torchvision.io import read_image\n",
    "import matplotlib.pyplot as plt\n",
    "from PIL import Image\n",
    "import random\n",
    "from torchvision.transforms import v2\n",
    "from tqdm.notebook import tqdm\n",
    "from pathlib import Path\n",
    "from datasets import load_dataset\n",
    "from huggingface_hub import notebook_login\n",
    "from tqdm.notebook import tqdm\n",
    "import wandb"
   ]
  },
  {
   "cell_type": "markdown",
   "metadata": {},
   "source": [
    "# Loading Dataset"
   ]
  },
  {
   "cell_type": "code",
   "execution_count": 8,
   "metadata": {},
   "outputs": [
    {
     "data": {
      "application/vnd.jupyter.widget-view+json": {
       "model_id": "61f499d3d0a64873a954ab66a7546ecb",
       "version_major": 2,
       "version_minor": 0
      },
      "text/plain": [
       "Resolving data files:   0%|          | 0/1053 [00:00<?, ?it/s]"
      ]
     },
     "metadata": {},
     "output_type": "display_data"
    },
    {
     "data": {
      "application/vnd.jupyter.widget-view+json": {
       "model_id": "2de36092e39c4ddf88a83ccc6abc5ebe",
       "version_major": 2,
       "version_minor": 0
      },
      "text/plain": [
       "Resolving data files:   0%|          | 0/462 [00:00<?, ?it/s]"
      ]
     },
     "metadata": {},
     "output_type": "display_data"
    },
    {
     "data": {
      "application/vnd.jupyter.widget-view+json": {
       "model_id": "bc13a0315a3748adb85e934774fffcc5",
       "version_major": 2,
       "version_minor": 0
      },
      "text/plain": [
       "Resolving data files:   0%|          | 0/650 [00:00<?, ?it/s]"
      ]
     },
     "metadata": {},
     "output_type": "display_data"
    }
   ],
   "source": [
    "from datasets import load_dataset\n",
    "# create dataset\n",
    "cancer_classification_dataset = load_dataset(\"imagefolder\", data_dir = \"CancerClassification\")"
   ]
  },
  {
   "cell_type": "code",
   "execution_count": 9,
   "metadata": {},
   "outputs": [
    {
     "data": {
      "text/plain": [
       "DatasetDict({\n",
       "    train: Dataset({\n",
       "        features: ['image', 'label'],\n",
       "        num_rows: 1053\n",
       "    })\n",
       "    validation: Dataset({\n",
       "        features: ['image', 'label'],\n",
       "        num_rows: 462\n",
       "    })\n",
       "    test: Dataset({\n",
       "        features: ['image', 'label'],\n",
       "        num_rows: 650\n",
       "    })\n",
       "})"
      ]
     },
     "execution_count": 9,
     "metadata": {},
     "output_type": "execute_result"
    }
   ],
   "source": [
    "cancer_classification_dataset"
   ]
  },
  {
   "cell_type": "code",
   "execution_count": 10,
   "metadata": {},
   "outputs": [
    {
     "name": "stdout",
     "output_type": "stream",
     "text": [
      "First record of the train dataset: {'image': <PIL.JpegImagePlugin.JpegImageFile image mode=RGB size=2862x1348 at 0x1B1C06F58B0>, 'label': 0}\n",
      "First record of the validation dataset: {'image': <PIL.JpegImagePlugin.JpegImageFile image mode=RGB size=2857x1348 at 0x1B1C06F55E0>, 'label': 0}\n",
      "First record of the test dataset: {'image': <PIL.JpegImagePlugin.JpegImageFile image mode=RGB size=2857x1348 at 0x1B1C1D9DFA0>, 'label': 0}\n"
     ]
    }
   ],
   "source": [
    "# Access the first record of the train dataset\n",
    "first_record_train = cancer_classification_dataset['train'][0]\n",
    "\n",
    "# Access the first record of the validation dataset\n",
    "first_record_validation = cancer_classification_dataset['validation'][0]\n",
    "\n",
    "# Access the first record of the test dataset\n",
    "first_record_test = cancer_classification_dataset['test'][0]\n",
    "\n",
    "print(\"First record of the train dataset:\", first_record_train)\n",
    "print(\"First record of the validation dataset:\", first_record_validation)\n",
    "print(\"First record of the test dataset:\", first_record_test)\n"
   ]
  },
  {
   "cell_type": "code",
   "execution_count": 11,
   "metadata": {},
   "outputs": [
    {
     "ename": "NameError",
     "evalue": "name 'id2label' is not defined",
     "output_type": "error",
     "traceback": [
      "\u001b[1;31m---------------------------------------------------------------------------\u001b[0m",
      "\u001b[1;31mNameError\u001b[0m                                 Traceback (most recent call last)",
      "Cell \u001b[1;32mIn[11], line 5\u001b[0m\n\u001b[0;32m      2\u001b[0m label_id \u001b[38;5;241m=\u001b[39m \u001b[38;5;241m0\u001b[39m\n\u001b[0;32m      4\u001b[0m \u001b[38;5;66;03m# Retrieve the corresponding label name from the label ID\u001b[39;00m\n\u001b[1;32m----> 5\u001b[0m label_name \u001b[38;5;241m=\u001b[39m id2label[\u001b[38;5;28mstr\u001b[39m(label_id)]\n\u001b[0;32m      7\u001b[0m \u001b[38;5;28mprint\u001b[39m(\u001b[38;5;124m\"\u001b[39m\u001b[38;5;124mLabel name for label 0:\u001b[39m\u001b[38;5;124m\"\u001b[39m, label_name)\n",
      "\u001b[1;31mNameError\u001b[0m: name 'id2label' is not defined"
     ]
    }
   ],
   "source": [
    "# Assuming label_id is the label ID of the ImageDataset with label 0\n",
    "label_id = 0\n",
    "\n",
    "# Retrieve the corresponding label name from the label ID\n",
    "label_name = id2label[str(label_id)]\n",
    "\n",
    "print(\"Label name for label 0:\", label_name)\n"
   ]
  },
  {
   "cell_type": "code",
   "execution_count": null,
   "metadata": {},
   "outputs": [],
   "source": []
  },
  {
   "cell_type": "code",
   "execution_count": 12,
   "metadata": {},
   "outputs": [
    {
     "name": "stdout",
     "output_type": "stream",
     "text": [
      "Number of unique class labels: 2\n",
      "Unique class labels: [0 1]\n"
     ]
    }
   ],
   "source": [
    "import numpy as np\n",
    "\n",
    "# Extract labels from datasets\n",
    "train_labels = cancer_classification_dataset['train']['label']\n",
    "validation_labels = cancer_classification_dataset['validation']['label']\n",
    "test_labels = cancer_classification_dataset['test']['label']\n",
    "\n",
    "# Find unique class labels\n",
    "unique_labels = np.unique(np.concatenate([train_labels, validation_labels, test_labels]))\n",
    "\n",
    "# Print the unique class labels\n",
    "print(\"Number of unique class labels:\", len(unique_labels))\n",
    "print(\"Unique class labels:\", unique_labels)\n"
   ]
  },
  {
   "cell_type": "code",
   "execution_count": 13,
   "metadata": {},
   "outputs": [],
   "source": [
    "# Extract labels from datasets\n",
    "train_labels = cancer_classification_dataset['train']['label']\n",
    "validation_labels = cancer_classification_dataset['validation']['label']\n",
    "test_labels = cancer_classification_dataset['test']['label']"
   ]
  },
  {
   "cell_type": "markdown",
   "metadata": {},
   "source": [
    "## EDA"
   ]
  },
  {
   "cell_type": "code",
   "execution_count": 14,
   "metadata": {},
   "outputs": [
    {
     "data": {
      "image/png": "[encoded data removed]",
      "text/plain": [
       "<Figure size 400x400 with 1 Axes>"
      ]
     },
     "metadata": {},
     "output_type": "display_data"
    },
    {
     "data": {
      "image/png": "[encoded data removed]",
      "text/plain": [
       "<Figure size 400x400 with 1 Axes>"
      ]
     },
     "metadata": {},
     "output_type": "display_data"
    },
    {
     "data": {
      "image/png": "[encoded data removed]",
      "text/plain": [
       "<Figure size 400x400 with 1 Axes>"
      ]
     },
     "metadata": {},
     "output_type": "display_data"
    }
   ],
   "source": [
    "import numpy as np\n",
    "import matplotlib.pyplot as plt\n",
    "\n",
    "# Extract labels from datasets\n",
    "train_labels = cancer_classification_dataset['train']['label']\n",
    "validation_labels = cancer_classification_dataset['validation']['label']\n",
    "test_labels = cancer_classification_dataset['test']['label']\n",
    "\n",
    "# Find unique class labels\n",
    "unique_labels_train = np.unique(train_labels)\n",
    "unique_labels_validation = np.unique(validation_labels)\n",
    "unique_labels_test = np.unique(test_labels)\n",
    "\n",
    "# Calculate class distribution\n",
    "train_class_distribution = np.array([np.sum(train_labels == label) for label in unique_labels_train])\n",
    "validation_class_distribution = np.array([np.sum(validation_labels == label) for label in unique_labels_validation])\n",
    "test_class_distribution = np.array([np.sum(test_labels == label) for label in unique_labels_test])\n",
    "\n",
    "# Define colors for label classes 0 and 1\n",
    "color_map = {0: 'blue', 1: 'orange'}\n",
    "\n",
    "# Set the width of the bars\n",
    "bar_width = 0.35\n",
    "\n",
    "# Plot class distribution for train dataset\n",
    "plt.figure(figsize=(4, 4))\n",
    "for label, count in zip(unique_labels_train, train_class_distribution):\n",
    "    plt.bar(label, count, color=color_map[label], width=bar_width, edgecolor='grey', label=f'Class {label} (Train)')\n",
    "plt.xlabel('Class Label', fontweight='bold')\n",
    "plt.ylabel('Number of Samples', fontweight='bold')\n",
    "plt.title('Class Distribution in Train Dataset', fontweight='bold')\n",
    "plt.legend()\n",
    "plt.tight_layout()\n",
    "plt.show()\n",
    "\n",
    "# Plot class distribution for validation dataset\n",
    "plt.figure(figsize=(4, 4))\n",
    "for label, count in zip(unique_labels_validation, validation_class_distribution):\n",
    "    plt.bar(label, count, color=color_map[label], width=bar_width, edgecolor='grey', label=f'Class {label} (Validation)')\n",
    "plt.xlabel('Class Label', fontweight='bold')\n",
    "plt.ylabel('Number of Samples', fontweight='bold')\n",
    "plt.title('Class Distribution in Validation Dataset', fontweight='bold')\n",
    "plt.legend()\n",
    "plt.tight_layout()\n",
    "plt.show()\n",
    "\n",
    "# Plot class distribution for test dataset\n",
    "plt.figure(figsize=(4, 4))\n",
    "for label, count in zip(unique_labels_test, test_class_distribution):\n",
    "    plt.bar(label, count, color=color_map[label], width=bar_width, edgecolor='grey', label=f'Class {label} (Test)')\n",
    "plt.xlabel('Class Label', fontweight='bold')\n",
    "plt.ylabel('Number of Samples', fontweight='bold')\n",
    "plt.title('Class Distribution in Test Dataset', fontweight='bold')\n",
    "plt.legend()\n",
    "plt.tight_layout()\n",
    "plt.show()\n"
   ]
  },
  {
   "cell_type": "code",
   "execution_count": 15,
   "metadata": {},
   "outputs": [
    {
     "data": {
      "text/plain": [
       "['Malignant', 'Normal']"
      ]
     },
     "execution_count": 15,
     "metadata": {},
     "output_type": "execute_result"
    }
   ],
   "source": [
    "labels = cancer_classification_dataset[\"train\"].features[\"label\"].names\n",
    "labels"
   ]
  },
  {
   "cell_type": "markdown",
   "metadata": {},
   "source": [
    "## Encoding Labels"
   ]
  },
  {
   "cell_type": "code",
   "execution_count": 16,
   "metadata": {},
   "outputs": [],
   "source": [
    "labels = cancer_classification_dataset[\"train\"].features[\"label\"].names\n",
    "label2id, id2label = dict(), dict()\n",
    "for i, label in enumerate(labels):\n",
    "    label2id[label] = str(i)\n",
    "    id2label[str(i)] = label"
   ]
  },
  {
   "cell_type": "code",
   "execution_count": 17,
   "metadata": {},
   "outputs": [
    {
     "data": {
      "text/plain": [
       "{'0': 'Malignant', '1': 'Normal'}"
      ]
     },
     "execution_count": 17,
     "metadata": {},
     "output_type": "execute_result"
    }
   ],
   "source": [
    "id2label"
   ]
  },
  {
   "cell_type": "code",
   "execution_count": 18,
   "metadata": {},
   "outputs": [
    {
     "name": "stderr",
     "output_type": "stream",
     "text": [
      "c:\\Users\\s0n0611\\AppData\\Local\\anaconda3\\envs\\data_science_base_env\\Lib\\site-packages\\huggingface_hub\\file_download.py:1132: FutureWarning: `resume_download` is deprecated and will be removed in version 1.0.0. Downloads always resume when possible. If you want to force a new download, use `force_download=True`.\n",
      "  warnings.warn(\n"
     ]
    }
   ],
   "source": [
    "from transformers import AutoImageProcessor\n",
    "\n",
    "checkpoint = \"google/vit-base-patch16-224-in21k\"\n",
    "image_processor = AutoImageProcessor.from_pretrained(checkpoint)"
   ]
  },
  {
   "cell_type": "markdown",
   "metadata": {},
   "source": [
    "Transform Dataset:\n",
    "1. Normalize\n",
    "2. Adjust image so as to make it ready for ViT"
   ]
  },
  {
   "cell_type": "code",
   "execution_count": 19,
   "metadata": {},
   "outputs": [],
   "source": [
    "from torchvision.transforms import RandomResizedCrop, Compose, Normalize, ToTensor\n",
    "\n",
    "normalize = Normalize(mean=image_processor.image_mean, std=image_processor.image_std)\n",
    "size = (\n",
    "    image_processor.size[\"shortest_edge\"]\n",
    "    if \"shortest_edge\" in image_processor.size\n",
    "    else (image_processor.size[\"height\"], image_processor.size[\"width\"])\n",
    ")\n",
    "_transforms = Compose([RandomResizedCrop(size), ToTensor(), normalize])"
   ]
  },
  {
   "cell_type": "code",
   "execution_count": 20,
   "metadata": {},
   "outputs": [],
   "source": [
    "# from torchvision.transforms import RandomAffine, Resize, ToTensor, Normalize\n",
    "\n",
    "# # Define augmentation and normalization\n",
    "# # Adjust parameters based on your dataset and model requirements\n",
    "# transforms = Compose([\n",
    "#     RandomAffine(degrees=15, translate=(0.1, 0.1), scale=(0.9, 1.1), shear=10),\n",
    "#     Resize(size),  # Resize to a consistent size\n",
    "#     ToTensor(),     # Convert PIL Image to Tensor\n",
    "#     Normalize(mean=[0.5], std=[0.5])  # Normalize pixel values\n",
    "# ])\n"
   ]
  },
  {
   "cell_type": "code",
   "execution_count": 21,
   "metadata": {},
   "outputs": [],
   "source": [
    "def transforms(examples):\n",
    "    examples[\"pixel_values\"] = [_transforms(img.convert(\"RGB\")) for img in examples[\"image\"]]\n",
    "    del examples[\"image\"]\n",
    "    return examples"
   ]
  },
  {
   "cell_type": "code",
   "execution_count": 22,
   "metadata": {},
   "outputs": [],
   "source": [
    "cancer_classification_dataset = cancer_classification_dataset.with_transform(transforms)"
   ]
  },
  {
   "cell_type": "code",
   "execution_count": 23,
   "metadata": {},
   "outputs": [],
   "source": [
    "from transformers import DefaultDataCollator\n",
    "\n",
    "data_collator = DefaultDataCollator()"
   ]
  },
  {
   "cell_type": "markdown",
   "metadata": {},
   "source": [
    "# Defining Evaluation Metrics"
   ]
  },
  {
   "cell_type": "code",
   "execution_count": 24,
   "metadata": {},
   "outputs": [],
   "source": [
    "import evaluate\n",
    "\n",
    "accuracy = evaluate.load(\"accuracy\")"
   ]
  },
  {
   "cell_type": "code",
   "execution_count": 25,
   "metadata": {},
   "outputs": [],
   "source": [
    "from sklearn.metrics import accuracy_score, precision_score, recall_score, f1_score, matthews_corrcoef\n",
    "\n",
    "def compute_metrics(eval_pred):\n",
    "    predictions, labels = eval_pred\n",
    "    predictions = np.argmax(predictions, axis=1)\n",
    "\n",
    "    accuracy = accuracy_score(labels, predictions)\n",
    "    precision = precision_score(labels, predictions, average='weighted')\n",
    "    recall = recall_score(labels, predictions, average='weighted')\n",
    "    f1 = f1_score(labels, predictions, average='weighted')\n",
    "    mcc = matthews_corrcoef(labels, predictions)\n",
    "\n",
    "    return {\n",
    "        'accuracy': accuracy,\n",
    "        'precision': precision,\n",
    "        'recall': recall,\n",
    "        'f1': f1,\n",
    "        'mcc': mcc\n",
    "    }\n"
   ]
  },
  {
   "cell_type": "markdown",
   "metadata": {},
   "source": [
    "## Model"
   ]
  },
  {
   "cell_type": "code",
   "execution_count": 26,
   "metadata": {},
   "outputs": [
    {
     "name": "stderr",
     "output_type": "stream",
     "text": [
      "c:\\Users\\s0n0611\\AppData\\Local\\anaconda3\\envs\\data_science_base_env\\Lib\\site-packages\\huggingface_hub\\file_download.py:1132: FutureWarning: `resume_download` is deprecated and will be removed in version 1.0.0. Downloads always resume when possible. If you want to force a new download, use `force_download=True`.\n",
      "  warnings.warn(\n",
      "Some weights of ViTForImageClassification were not initialized from the model checkpoint at google/vit-base-patch16-224-in21k and are newly initialized: ['classifier.bias', 'classifier.weight']\n",
      "You should probably TRAIN this model on a down-stream task to be able to use it for predictions and inference.\n"
     ]
    }
   ],
   "source": [
    "from transformers import AutoModelForImageClassification, TrainingArguments, Trainer\n",
    "\n",
    "model = AutoModelForImageClassification.from_pretrained(\n",
    "    checkpoint,\n",
    "    num_labels=len(labels),\n",
    "    id2label=id2label,\n",
    "    label2id=label2id,\n",
    ")"
   ]
  },
  {
   "cell_type": "code",
   "execution_count": 30,
   "metadata": {},
   "outputs": [
    {
     "name": "stderr",
     "output_type": "stream",
     "text": [
      "Using the `WANDB_DISABLED` environment variable is deprecated and will be removed in v5. Use the --report_to flag to control the integrations used for logging result (for instance --report_to none).\n"
     ]
    },
    {
     "data": {
      "application/vnd.jupyter.widget-view+json": {
       "model_id": "439297a538ef4d7eaf0597765c0f4a10",
       "version_major": 2,
       "version_minor": 0
      },
      "text/plain": [
       "  0%|          | 0/80 [00:00<?, ?it/s]"
      ]
     },
     "metadata": {},
     "output_type": "display_data"
    },
    {
     "name": "stdout",
     "output_type": "stream",
     "text": [
      "{'loss': 0.6396, 'grad_norm': 1.1021748781204224, 'learning_rate': 4.8611111111111115e-05, 'epoch': 0.61}\n"
     ]
    },
    {
     "data": {
      "application/vnd.jupyter.widget-view+json": {
       "model_id": "1636db0ccf8b49f3be18cd872188bd58",
       "version_major": 2,
       "version_minor": 0
      },
      "text/plain": [
       "  0%|          | 0/29 [00:00<?, ?it/s]"
      ]
     },
     "metadata": {},
     "output_type": "display_data"
    },
    {
     "name": "stdout",
     "output_type": "stream",
     "text": [
      "{'eval_loss': 0.3643978238105774, 'eval_accuracy': 0.8722943722943723, 'eval_precision': 0.8712687874933572, 'eval_recall': 0.8722943722943723, 'eval_f1': 0.8717757722436339, 'eval_mcc': 0.376410868623956, 'eval_runtime': 30.778, 'eval_samples_per_second': 15.011, 'eval_steps_per_second': 0.942, 'epoch': 0.97}\n",
      "{'loss': 0.5355, 'grad_norm': 1.0600333213806152, 'learning_rate': 4.166666666666667e-05, 'epoch': 1.21}\n",
      "{'loss': 0.4572, 'grad_norm': 1.1077481508255005, 'learning_rate': 3.472222222222222e-05, 'epoch': 1.82}\n"
     ]
    },
    {
     "data": {
      "application/vnd.jupyter.widget-view+json": {
       "model_id": "b82269d3e3da490d9737fbf38cfea5a1",
       "version_major": 2,
       "version_minor": 0
      },
      "text/plain": [
       "  0%|          | 0/29 [00:00<?, ?it/s]"
      ]
     },
     "metadata": {},
     "output_type": "display_data"
    },
    {
     "name": "stdout",
     "output_type": "stream",
     "text": [
      "{'eval_loss': 0.43925920128822327, 'eval_accuracy': 0.7835497835497836, 'eval_precision': 0.8917552144824871, 'eval_recall': 0.7835497835497836, 'eval_f1': 0.8174960802812888, 'eval_mcc': 0.41117845235428474, 'eval_runtime': 27.0931, 'eval_samples_per_second': 17.052, 'eval_steps_per_second': 1.07, 'epoch': 2.0}\n",
      "{'loss': 0.3991, 'grad_norm': 0.9857405424118042, 'learning_rate': 2.777777777777778e-05, 'epoch': 2.42}\n"
     ]
    },
    {
     "data": {
      "application/vnd.jupyter.widget-view+json": {
       "model_id": "0123cfa5ebc9492ca2263f5eeb5f99d1",
       "version_major": 2,
       "version_minor": 0
      },
      "text/plain": [
       "  0%|          | 0/29 [00:00<?, ?it/s]"
      ]
     },
     "metadata": {},
     "output_type": "display_data"
    },
    {
     "name": "stdout",
     "output_type": "stream",
     "text": [
      "{'eval_loss': 0.3272108733654022, 'eval_accuracy': 0.8744588744588745, 'eval_precision': 0.8994651182151183, 'eval_recall': 0.8744588744588745, 'eval_f1': 0.8839695657877475, 'eval_mcc': 0.5014682252465565, 'eval_runtime': 27.2879, 'eval_samples_per_second': 16.931, 'eval_steps_per_second': 1.063, 'epoch': 2.97}\n",
      "{'loss': 0.3935, 'grad_norm': 2.1898303031921387, 'learning_rate': 2.0833333333333336e-05, 'epoch': 3.03}\n",
      "{'loss': 0.3445, 'grad_norm': 1.4439536333084106, 'learning_rate': 1.388888888888889e-05, 'epoch': 3.64}\n"
     ]
    },
    {
     "data": {
      "application/vnd.jupyter.widget-view+json": {
       "model_id": "2816a7cfc1af45c79685a96a7906d7d6",
       "version_major": 2,
       "version_minor": 0
      },
      "text/plain": [
       "  0%|          | 0/29 [00:00<?, ?it/s]"
      ]
     },
     "metadata": {},
     "output_type": "display_data"
    },
    {
     "name": "stdout",
     "output_type": "stream",
     "text": [
      "{'eval_loss': 0.38199877738952637, 'eval_accuracy': 0.8354978354978355, 'eval_precision': 0.8946099651982005, 'eval_recall': 0.8354978354978355, 'eval_f1': 0.8556651681651681, 'eval_mcc': 0.4560669931645117, 'eval_runtime': 27.5568, 'eval_samples_per_second': 16.765, 'eval_steps_per_second': 1.052, 'epoch': 4.0}\n",
      "{'loss': 0.3487, 'grad_norm': 1.93222177028656, 'learning_rate': 6.944444444444445e-06, 'epoch': 4.24}\n",
      "{'loss': 0.3504, 'grad_norm': 1.2989308834075928, 'learning_rate': 0.0, 'epoch': 4.85}\n"
     ]
    },
    {
     "data": {
      "application/vnd.jupyter.widget-view+json": {
       "model_id": "9c570dcbacec44208abc4126e87e3f10",
       "version_major": 2,
       "version_minor": 0
      },
      "text/plain": [
       "  0%|          | 0/29 [00:00<?, ?it/s]"
      ]
     },
     "metadata": {},
     "output_type": "display_data"
    },
    {
     "name": "stdout",
     "output_type": "stream",
     "text": [
      "{'eval_loss': 0.3565642237663269, 'eval_accuracy': 0.8398268398268398, 'eval_precision': 0.8738525915676109, 'eval_recall': 0.8398268398268398, 'eval_f1': 0.8534695373303912, 'eval_mcc': 0.3776123764286877, 'eval_runtime': 27.1772, 'eval_samples_per_second': 17.0, 'eval_steps_per_second': 1.067, 'epoch': 4.85}\n",
      "{'train_runtime': 653.552, 'train_samples_per_second': 8.056, 'train_steps_per_second': 0.122, 'train_loss': 0.43355112671852114, 'epoch': 4.85}\n"
     ]
    },
    {
     "data": {
      "text/plain": [
       "TrainOutput(global_step=80, training_loss=0.43355112671852114, metrics={'train_runtime': 653.552, 'train_samples_per_second': 8.056, 'train_steps_per_second': 0.122, 'total_flos': 3.9582908295133594e+17, 'train_loss': 0.43355112671852114, 'epoch': 4.848484848484849})"
      ]
     },
     "execution_count": 30,
     "metadata": {},
     "output_type": "execute_result"
    }
   ],
   "source": [
    "import os\n",
    "from transformers import TrainingArguments, Trainer\n",
    "\n",
    "# Disable WANB by setting the environment variable\n",
    "os.environ[\"WANDB_DISABLED\"] = \"true\"\n",
    "\n",
    "# Define Training Arguments\n",
    "training_args = TrainingArguments(\n",
    "    output_dir=\"my_awesome_cancer_classification_model\",\n",
    "    remove_unused_columns=False,\n",
    "    evaluation_strategy=\"epoch\",\n",
    "    save_strategy=\"epoch\",\n",
    "    learning_rate=5e-5,\n",
    "    per_device_train_batch_size=16,\n",
    "    gradient_accumulation_steps=4,\n",
    "    per_device_eval_batch_size=16,\n",
    "    num_train_epochs=5,\n",
    "    warmup_ratio=0.1,\n",
    "    logging_dir='logs',  # Specify logging directory\n",
    "    logging_steps=10,  # Log metrics every specified number of steps\n",
    "    load_best_model_at_end=True,\n",
    "    metric_for_best_model=\"accuracy\",\n",
    ")\n",
    "\n",
    "# Initialize Trainer\n",
    "trainer = Trainer(\n",
    "    model=model,\n",
    "    args=training_args,\n",
    "    data_collator=data_collator,\n",
    "    train_dataset=cancer_classification_dataset[\"train\"],\n",
    "    eval_dataset=cancer_classification_dataset[\"validation\"],\n",
    "    tokenizer=image_processor,\n",
    "    compute_metrics=compute_metrics\n",
    ")\n",
    "\n",
    "# Train the model\n",
    "trainer.train()\n"
   ]
  },
  {
   "cell_type": "code",
   "execution_count": 31,
   "metadata": {},
   "outputs": [
    {
     "data": {
      "text/plain": [
       "[{'loss': 0.6396,\n",
       "  'grad_norm': 1.1021748781204224,\n",
       "  'learning_rate': 4.8611111111111115e-05,\n",
       "  'epoch': 0.6060606060606061,\n",
       "  'step': 10},\n",
       " {'eval_loss': 0.3643978238105774,\n",
       "  'eval_accuracy': 0.8722943722943723,\n",
       "  'eval_precision': 0.8712687874933572,\n",
       "  'eval_recall': 0.8722943722943723,\n",
       "  'eval_f1': 0.8717757722436339,\n",
       "  'eval_mcc': 0.376410868623956,\n",
       "  'eval_runtime': 30.778,\n",
       "  'eval_samples_per_second': 15.011,\n",
       "  'eval_steps_per_second': 0.942,\n",
       "  'epoch': 0.9696969696969697,\n",
       "  'step': 16},\n",
       " {'loss': 0.5355,\n",
       "  'grad_norm': 1.0600333213806152,\n",
       "  'learning_rate': 4.166666666666667e-05,\n",
       "  'epoch': 1.2121212121212122,\n",
       "  'step': 20},\n",
       " {'loss': 0.4572,\n",
       "  'grad_norm': 1.1077481508255005,\n",
       "  'learning_rate': 3.472222222222222e-05,\n",
       "  'epoch': 1.8181818181818183,\n",
       "  'step': 30},\n",
       " {'eval_loss': 0.43925920128822327,\n",
       "  'eval_accuracy': 0.7835497835497836,\n",
       "  'eval_precision': 0.8917552144824871,\n",
       "  'eval_recall': 0.7835497835497836,\n",
       "  'eval_f1': 0.8174960802812888,\n",
       "  'eval_mcc': 0.41117845235428474,\n",
       "  'eval_runtime': 27.0931,\n",
       "  'eval_samples_per_second': 17.052,\n",
       "  'eval_steps_per_second': 1.07,\n",
       "  'epoch': 2.0,\n",
       "  'step': 33},\n",
       " {'loss': 0.3991,\n",
       "  'grad_norm': 0.9857405424118042,\n",
       "  'learning_rate': 2.777777777777778e-05,\n",
       "  'epoch': 2.4242424242424243,\n",
       "  'step': 40},\n",
       " {'eval_loss': 0.3272108733654022,\n",
       "  'eval_accuracy': 0.8744588744588745,\n",
       "  'eval_precision': 0.8994651182151183,\n",
       "  'eval_recall': 0.8744588744588745,\n",
       "  'eval_f1': 0.8839695657877475,\n",
       "  'eval_mcc': 0.5014682252465565,\n",
       "  'eval_runtime': 27.2879,\n",
       "  'eval_samples_per_second': 16.931,\n",
       "  'eval_steps_per_second': 1.063,\n",
       "  'epoch': 2.9696969696969697,\n",
       "  'step': 49},\n",
       " {'loss': 0.3935,\n",
       "  'grad_norm': 2.1898303031921387,\n",
       "  'learning_rate': 2.0833333333333336e-05,\n",
       "  'epoch': 3.0303030303030303,\n",
       "  'step': 50},\n",
       " {'loss': 0.3445,\n",
       "  'grad_norm': 1.4439536333084106,\n",
       "  'learning_rate': 1.388888888888889e-05,\n",
       "  'epoch': 3.6363636363636362,\n",
       "  'step': 60},\n",
       " {'eval_loss': 0.38199877738952637,\n",
       "  'eval_accuracy': 0.8354978354978355,\n",
       "  'eval_precision': 0.8946099651982005,\n",
       "  'eval_recall': 0.8354978354978355,\n",
       "  'eval_f1': 0.8556651681651681,\n",
       "  'eval_mcc': 0.4560669931645117,\n",
       "  'eval_runtime': 27.5568,\n",
       "  'eval_samples_per_second': 16.765,\n",
       "  'eval_steps_per_second': 1.052,\n",
       "  'epoch': 4.0,\n",
       "  'step': 66},\n",
       " {'loss': 0.3487,\n",
       "  'grad_norm': 1.93222177028656,\n",
       "  'learning_rate': 6.944444444444445e-06,\n",
       "  'epoch': 4.242424242424242,\n",
       "  'step': 70},\n",
       " {'loss': 0.3504,\n",
       "  'grad_norm': 1.2989308834075928,\n",
       "  'learning_rate': 0.0,\n",
       "  'epoch': 4.848484848484849,\n",
       "  'step': 80},\n",
       " {'eval_loss': 0.3565642237663269,\n",
       "  'eval_accuracy': 0.8398268398268398,\n",
       "  'eval_precision': 0.8738525915676109,\n",
       "  'eval_recall': 0.8398268398268398,\n",
       "  'eval_f1': 0.8534695373303912,\n",
       "  'eval_mcc': 0.3776123764286877,\n",
       "  'eval_runtime': 27.1772,\n",
       "  'eval_samples_per_second': 17.0,\n",
       "  'eval_steps_per_second': 1.067,\n",
       "  'epoch': 4.848484848484849,\n",
       "  'step': 80},\n",
       " {'train_runtime': 653.552,\n",
       "  'train_samples_per_second': 8.056,\n",
       "  'train_steps_per_second': 0.122,\n",
       "  'total_flos': 3.9582908295133594e+17,\n",
       "  'train_loss': 0.43355112671852114,\n",
       "  'epoch': 4.848484848484849,\n",
       "  'step': 80}]"
      ]
     },
     "execution_count": 31,
     "metadata": {},
     "output_type": "execute_result"
    }
   ],
   "source": [
    "[item for item in trainer.state.log_history]"
   ]
  },
  {
   "cell_type": "markdown",
   "metadata": {},
   "source": [
    "# Evaluation"
   ]
  },
  {
   "cell_type": "code",
   "execution_count": 32,
   "metadata": {},
   "outputs": [
    {
     "data": {
      "image/png": "[encoded data removed]",
      "text/plain": [
       "<Figure size 640x480 with 1 Axes>"
      ]
     },
     "metadata": {},
     "output_type": "display_data"
    }
   ],
   "source": [
    "import matplotlib.pyplot as plt\n",
    "\n",
    "# Access the trainer's history\n",
    "train_losses = []\n",
    "eval_losses = []\n",
    "\n",
    "for item in trainer.state.log_history:\n",
    "    if 'loss' in item:\n",
    "        train_losses.append(item['loss'])\n",
    "    elif 'eval_loss' in item:\n",
    "        eval_losses.append(item['eval_loss'])\n",
    "\n",
    "# Plot the loss curves\n",
    "plt.plot(train_losses, label='Training Loss')\n",
    "plt.plot(eval_losses, label='Validation Loss')\n",
    "plt.xlabel('Step')  # Adjust the label as needed\n",
    "plt.ylabel('Loss')\n",
    "plt.title('Training and Validation Loss')\n",
    "plt.legend()\n",
    "plt.show()\n"
   ]
  },
  {
   "cell_type": "code",
   "execution_count": 33,
   "metadata": {},
   "outputs": [
    {
     "data": {
      "application/vnd.jupyter.widget-view+json": {
       "model_id": "0177148305274eca93a5c61c0c9c183b",
       "version_major": 2,
       "version_minor": 0
      },
      "text/plain": [
       "  0%|          | 0/41 [00:00<?, ?it/s]"
      ]
     },
     "metadata": {},
     "output_type": "display_data"
    }
   ],
   "source": [
    "outputs = trainer.predict(cancer_classification_dataset['test'])\n"
   ]
  },
  {
   "cell_type": "code",
   "execution_count": 34,
   "metadata": {},
   "outputs": [
    {
     "name": "stdout",
     "output_type": "stream",
     "text": [
      "{'test_loss': 0.401944100856781, 'test_accuracy': 0.8307692307692308, 'test_precision': 0.826195660010093, 'test_recall': 0.8307692307692308, 'test_f1': 0.8269199639629082, 'test_mcc': 0.5782603786735905, 'test_runtime': 44.0815, 'test_samples_per_second': 14.745, 'test_steps_per_second': 0.93}\n"
     ]
    }
   ],
   "source": [
    "print(outputs.metrics)\n"
   ]
  },
  {
   "cell_type": "markdown",
   "metadata": {},
   "source": [
    "{'test_loss': 0.3898068964481354, 'test_accuracy': 0.8353846153846154, 'test_runtime': 48.0554, 'test_samples_per_second': 13.526, 'test_steps_per_second': 0.853}"
   ]
  },
  {
   "cell_type": "markdown",
   "metadata": {},
   "source": [
    "# Model Evaluation Results\n",
    "\n",
    "## Test Metrics\n",
    "\n",
    "- **Test Loss**: The test loss is approximately 0.390, suggesting that, on average, the model's predictions deviate from the true labels by this amount on the test dataset.\n",
    "\n",
    "- **Test Accuracy**: The test accuracy is approximately 0.835, indicating that the model correctly classifies around 83.5% of the samples in the test dataset.\n",
    "\n",
    "- **Test Runtime**: The total runtime for evaluating the model on the test dataset is approximately 48.06 seconds.\n",
    "\n",
    "- **Test Samples per Second**: The model processes around 13.53 samples per second during evaluation on the test dataset.\n",
    "\n",
    "- **Test Steps per Second**: The model processes around 0.853 evaluation steps (batches) per second during evaluation on the test dataset.\n"
   ]
  },
  {
   "cell_type": "code",
   "execution_count": null,
   "metadata": {},
   "outputs": [],
   "source": []
  },
  {
   "cell_type": "code",
   "execution_count": 35,
   "metadata": {},
   "outputs": [
    {
     "data": {
      "application/vnd.jupyter.widget-view+json": {
       "model_id": "e788adc9a0db4ab5b151ca7597b425d4",
       "version_major": 2,
       "version_minor": 0
      },
      "text/plain": [
       "  0%|          | 0/29 [00:00<?, ?it/s]"
      ]
     },
     "metadata": {},
     "output_type": "display_data"
    },
    {
     "name": "stdout",
     "output_type": "stream",
     "text": [
      "Evaluation results: {'eval_loss': 0.3012564480304718, 'eval_accuracy': 0.8852813852813853, 'eval_precision': 0.8977159247327394, 'eval_recall': 0.8852813852813853, 'eval_f1': 0.8905153490232172, 'eval_mcc': 0.5006836276905281, 'eval_runtime': 30.8649, 'eval_samples_per_second': 14.968, 'eval_steps_per_second': 0.94, 'epoch': 4.848484848484849}\n"
     ]
    }
   ],
   "source": [
    "\n",
    "# Evaluate on the evaluation dataset\n",
    "evaluation_results = trainer.evaluate()\n",
    "\n",
    "print(\"Evaluation results:\", evaluation_results)"
   ]
  },
  {
   "cell_type": "markdown",
   "metadata": {},
   "source": [
    "# Model Evaluation Results\n",
    "\n",
    "## Evaluation Metrics\n",
    "\n",
    "- **Evaluation Loss**: The evaluation loss is approximately 0.318, indicating that, on average, the model's predictions deviate from the true labels by this amount during evaluation.\n",
    "\n",
    "- **Evaluation Accuracy**: The evaluation accuracy is approximately 0.874, indicating that the model correctly classifies around 87.4% of the samples in the evaluation dataset.\n",
    "\n",
    "- **Evaluation Runtime**: The total runtime for evaluating the model on the evaluation dataset is approximately 27.86 seconds.\n",
    "\n",
    "- **Evaluation Samples per Second**: The model processes around 16.59 samples per second during evaluation on the evaluation dataset.\n",
    "\n",
    "- **Evaluation Steps per Second**: The model processes around 1.041 evaluation steps (batches) per second during evaluation on the evaluation dataset.\n",
    "\n"
   ]
  },
  {
   "cell_type": "code",
   "execution_count": null,
   "metadata": {},
   "outputs": [],
   "source": []
  },
  {
   "cell_type": "code",
   "execution_count": null,
   "metadata": {},
   "outputs": [],
   "source": []
  },
  {
   "cell_type": "code",
   "execution_count": null,
   "metadata": {},
   "outputs": [],
   "source": []
  }
 ],
 "metadata": {
  "kernelspec": {
   "display_name": "data_science_base_env",
   "language": "python",
   "name": "python3"
  },
  "language_info": {
   "codemirror_mode": {
    "name": "ipython",
    "version": 3
   },
   "file_extension": ".py",
   "mimetype": "text/x-python",
   "name": "python",
   "nbconvert_exporter": "python",
   "pygments_lexer": "ipython3",
   "version": "3.12.3"
  }
 },
 "nbformat": 4,
 "nbformat_minor": 2
}
